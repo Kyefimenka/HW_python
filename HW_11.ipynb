{
 "cells": [
  {
   "cell_type": "markdown",
   "id": "400014b9",
   "metadata": {},
   "source": [
    "f(x) = (sin(x)/2 + cos(x)/2)^2 * sin(x)"
   ]
  },
  {
   "cell_type": "code",
   "execution_count": 148,
   "id": "c71dde3c",
   "metadata": {},
   "outputs": [],
   "source": [
    "from sympy.abc import x\n",
    "from sympy import Symbol, solveset, solve, diff, plot, is_increasing, Interval, oo, is_decreasing, S \n",
    "from sympy import sin, cos, simplify, periodicity, pi, singularities, nonlinsolve"
   ]
  },
  {
   "cell_type": "code",
   "execution_count": 149,
   "id": "89e74124",
   "metadata": {},
   "outputs": [],
   "source": [
    "x = Symbol('x', real=True)"
   ]
  },
  {
   "cell_type": "code",
   "execution_count": 150,
   "id": "8e21b354",
   "metadata": {},
   "outputs": [
    {
     "data": {
      "text/latex": [
       "$\\displaystyle \\frac{\\sin{\\left(x \\right)} \\sin^{2}{\\left(x + \\frac{\\pi}{4} \\right)}}{2}$"
      ],
      "text/plain": [
       "sin(x)*sin(x + pi/4)**2/2"
      ]
     },
     "execution_count": 150,
     "metadata": {},
     "output_type": "execute_result"
    }
   ],
   "source": [
    "y = simplify((sin(x)/2 + cos(x)/2)**2 * sin(x))\n",
    "y"
   ]
  },
  {
   "cell_type": "markdown",
   "id": "527cb594",
   "metadata": {},
   "source": [
    "Определить корни"
   ]
  },
  {
   "cell_type": "code",
   "execution_count": 151,
   "id": "a2769a35",
   "metadata": {},
   "outputs": [
    {
     "data": {
      "text/latex": [
       "$\\displaystyle \\left\\{2 n \\pi\\; \\middle|\\; n \\in \\mathbb{Z}\\right\\} \\cup \\left\\{2 n \\pi + \\pi\\; \\middle|\\; n \\in \\mathbb{Z}\\right\\} \\cup \\left\\{2 n \\pi + \\frac{3 \\pi}{4}\\; \\middle|\\; n \\in \\mathbb{Z}\\right\\} \\cup \\left\\{2 n \\pi + \\frac{7 \\pi}{4}\\; \\middle|\\; n \\in \\mathbb{Z}\\right\\}$"
      ],
      "text/plain": [
       "Union(ImageSet(Lambda(_n, 2*_n*pi + 3*pi/4), Integers), ImageSet(Lambda(_n, 2*_n*pi + 7*pi/4), Integers), ImageSet(Lambda(_n, 2*_n*pi + pi), Integers), ImageSet(Lambda(_n, 2*_n*pi), Integers))"
      ]
     },
     "execution_count": 151,
     "metadata": {},
     "output_type": "execute_result"
    }
   ],
   "source": [
    "solveset(y, x)"
   ]
  },
  {
   "cell_type": "markdown",
   "id": "8b57b9f8",
   "metadata": {},
   "source": [
    "Найти интервалы, на которых функция возрастает"
   ]
  },
  {
   "cell_type": "code",
   "execution_count": 152,
   "id": "ebee7bd5",
   "metadata": {},
   "outputs": [
    {
     "data": {
      "text/latex": [
       "$\\displaystyle \\sin{\\left(x \\right)} \\sin{\\left(x + \\frac{\\pi}{4} \\right)} \\cos{\\left(x + \\frac{\\pi}{4} \\right)} + \\frac{\\sin^{2}{\\left(x + \\frac{\\pi}{4} \\right)} \\cos{\\left(x \\right)}}{2}$"
      ],
      "text/plain": [
       "sin(x)*sin(x + pi/4)*cos(x + pi/4) + sin(x + pi/4)**2*cos(x)/2"
      ]
     },
     "execution_count": 152,
     "metadata": {},
     "output_type": "execute_result"
    }
   ],
   "source": [
    "derivate = diff(y)\n",
    "derivate"
   ]
  },
  {
   "cell_type": "code",
   "execution_count": 153,
   "id": "def5707d",
   "metadata": {},
   "outputs": [
    {
     "data": {
      "text/latex": [
       "$\\displaystyle 2 \\pi$"
      ],
      "text/plain": [
       "2*pi"
      ]
     },
     "execution_count": 153,
     "metadata": {},
     "output_type": "execute_result"
    }
   ],
   "source": [
    "periodicity(y, x)"
   ]
  },
  {
   "cell_type": "code",
   "execution_count": 154,
   "id": "c21ce792",
   "metadata": {},
   "outputs": [
    {
     "data": {
      "text/latex": [
       "$\\displaystyle \\frac{\\sin{\\left(10 \\right)} \\sin^{2}{\\left(\\frac{\\pi}{4} + 10 \\right)}}{2}$"
      ],
      "text/plain": [
       "sin(10)*sin(pi/4 + 10)**2/2"
      ]
     },
     "execution_count": 154,
     "metadata": {},
     "output_type": "execute_result"
    }
   ],
   "source": [
    "y.subs(x, 10+2*pi)"
   ]
  },
  {
   "cell_type": "code",
   "execution_count": 155,
   "id": "d88f9aeb",
   "metadata": {},
   "outputs": [
    {
     "data": {
      "text/latex": [
       "$\\displaystyle 0 \\leq x \\wedge x \\leq 2 \\pi \\wedge \\left(x = 0 \\vee x = \\frac{3 \\pi}{4} \\vee x = \\pi \\vee x = \\frac{7 \\pi}{4}\\right)$"
      ],
      "text/plain": [
       "(0 <= x) & (x <= 2*pi) & (Eq(x, 0) | Eq(x, pi) | Eq(x, 3*pi/4) | Eq(x, 7*pi/4))"
      ]
     },
     "execution_count": 155,
     "metadata": {},
     "output_type": "execute_result"
    }
   ],
   "source": [
    "solve([x >= 0, x <= 2*pi, y], x)"
   ]
  },
  {
   "cell_type": "code",
   "execution_count": 156,
   "id": "31288a3a",
   "metadata": {},
   "outputs": [
    {
     "data": {
      "text/latex": [
       "$\\displaystyle 2 \\pi$"
      ],
      "text/plain": [
       "2*pi"
      ]
     },
     "execution_count": 156,
     "metadata": {},
     "output_type": "execute_result"
    }
   ],
   "source": [
    "period_derivate = periodicity(derivate, x)\n",
    "period_derivate"
   ]
  },
  {
   "cell_type": "code",
   "execution_count": 157,
   "id": "85e1db6b",
   "metadata": {},
   "outputs": [
    {
     "data": {
      "text/plain": [
       "[1.0591, 2.3562, 2.8679, 4.2007, 5.4978, 6.0095]"
      ]
     },
     "execution_count": 157,
     "metadata": {},
     "output_type": "execute_result"
    }
   ],
   "source": [
    "x0 = list(solveset(derivate, x, Interval(0, period_derivate)).evalf(n=5))\n",
    "x0"
   ]
  },
  {
   "cell_type": "code",
   "execution_count": 158,
   "id": "7e032433",
   "metadata": {},
   "outputs": [
    {
     "data": {
      "text/plain": [
       "[0, 1.0591, 2.3562, 2.8679, 4.2007, 5.4978, 6.0095, 6.2832]"
      ]
     },
     "execution_count": 158,
     "metadata": {},
     "output_type": "execute_result"
    }
   ],
   "source": [
    "x1 = [0, *x0, period_derivate.evalf(n=5)]\n",
    "x1"
   ]
  },
  {
   "cell_type": "code",
   "execution_count": 159,
   "id": "6aed87f1",
   "metadata": {},
   "outputs": [
    {
     "data": {
      "text/plain": [
       "[((0, 1.0591), 'Increase'),\n",
       " ((1.0591, 2.3562), 'Decrease'),\n",
       " ((2.3562, 2.8679), 'Increase'),\n",
       " ((2.8679, 4.2007), 'Decrease'),\n",
       " ((4.2007, 5.4978), 'Increase'),\n",
       " ((5.4978, 6.0095), 'Decrease'),\n",
       " ((6.0095, 6.2832), 'Increase')]"
      ]
     },
     "execution_count": 159,
     "metadata": {},
     "output_type": "execute_result"
    }
   ],
   "source": [
    "_list = []\n",
    "for i in range(0, len(x1)-1):\n",
    "    _list.append(((x1[i], x1[i+1]), \"Increase\" if derivate.subs(x, (x1[i]+x1[i+1])/2).evalf(5)>0 else \"Decrease\"))\n",
    "_list"
   ]
  },
  {
   "cell_type": "markdown",
   "id": "dee4a995",
   "metadata": {},
   "source": [
    "Построить график"
   ]
  },
  {
   "cell_type": "code",
   "execution_count": 171,
   "id": "ac45aece",
   "metadata": {},
   "outputs": [
    {
     "data": {
      "image/png": "[encoded data removed]",
      "text/plain": [
       "<Figure size 432x288 with 1 Axes>"
      ]
     },
     "metadata": {
      "needs_background": "light"
     },
     "output_type": "display_data"
    }
   ],
   "source": [
    "graph = plot(y)"
   ]
  },
  {
   "cell_type": "code",
   "execution_count": 172,
   "id": "8972fe53",
   "metadata": {},
   "outputs": [
    {
     "data": {
      "image/png": "[encoded data removed]",
      "text/plain": [
       "<Figure size 432x288 with 1 Axes>"
      ]
     },
     "metadata": {
      "needs_background": "light"
     },
     "output_type": "display_data"
    }
   ],
   "source": [
    "graph = plot(y, derivate, xlim=(0, 2*pi))"
   ]
  },
  {
   "cell_type": "markdown",
   "id": "adfe977d",
   "metadata": {},
   "source": [
    "Вычислить вершину"
   ]
  },
  {
   "cell_type": "code",
   "execution_count": 168,
   "id": "6a0757e8",
   "metadata": {},
   "outputs": [
    {
     "data": {
      "text/plain": [
       "[(1.0591, 0.40411),\n",
       " (2.3562, 0),\n",
       " (2.8679, 0.032404),\n",
       " (4.2007, -0.40411),\n",
       " (5.4978, 0),\n",
       " (6.0095, -0.032404)]"
      ]
     },
     "execution_count": 168,
     "metadata": {},
     "output_type": "execute_result"
    }
   ],
   "source": [
    "y0 = list(map(lambda a: (a, y.subs(x, a).evalf(5, chop=True)), x0))\n",
    "y0"
   ]
  },
  {
   "cell_type": "markdown",
   "id": "8d7b47d8",
   "metadata": {},
   "source": [
    "Определить промежутки, на котором f > 0"
   ]
  },
  {
   "cell_type": "code",
   "execution_count": 169,
   "id": "2b182237",
   "metadata": {},
   "outputs": [
    {
     "data": {
      "text/latex": [
       "$\\displaystyle \\left(0, \\frac{3 \\pi}{4}\\right) \\cup \\left(\\frac{3 \\pi}{4}, \\pi\\right)$"
      ],
      "text/plain": [
       "Union(Interval.open(0, 3*pi/4), Interval.open(3*pi/4, pi))"
      ]
     },
     "execution_count": 169,
     "metadata": {},
     "output_type": "execute_result"
    }
   ],
   "source": [
    "solveset(y>0,x,S.Reals)"
   ]
  },
  {
   "cell_type": "markdown",
   "id": "d6ffaff1",
   "metadata": {},
   "source": [
    "Определить промежутки, на котором f < 0"
   ]
  },
  {
   "cell_type": "code",
   "execution_count": 170,
   "id": "918a9c9a",
   "metadata": {},
   "outputs": [
    {
     "data": {
      "text/latex": [
       "$\\displaystyle \\left(\\pi, \\frac{7 \\pi}{4}\\right) \\cup \\left(\\frac{7 \\pi}{4}, 2 \\pi\\right)$"
      ],
      "text/plain": [
       "Union(Interval.open(pi, 7*pi/4), Interval.open(7*pi/4, 2*pi))"
      ]
     },
     "execution_count": 170,
     "metadata": {},
     "output_type": "execute_result"
    }
   ],
   "source": [
    "solveset(y<0,x,S.Reals)"
   ]
  },
  {
   "cell_type": "code",
   "execution_count": null,
   "id": "ac2f0ab6",
   "metadata": {},
   "outputs": [],
   "source": []
  }
 ],
 "metadata": {
  "kernelspec": {
   "display_name": "Python 3.10.6 ('.folder': venv)",
   "language": "python",
   "name": "python3"
  },
  "language_info": {
   "codemirror_mode": {
    "name": "ipython",
    "version": 3
   },
   "file_extension": ".py",
   "mimetype": "text/x-python",
   "name": "python",
   "nbconvert_exporter": "python",
   "pygments_lexer": "ipython3",
   "version": "3.10.6"
  },
  "vscode": {
   "interpreter": {
    "hash": "1e453f981f5917aa1105f47333f220441ad0bc1bc04bcd9f3c04bdd80ae58522"
   }
  }
 },
 "nbformat": 4,
 "nbformat_minor": 5
}
